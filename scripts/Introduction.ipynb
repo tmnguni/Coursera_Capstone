{
  "nbformat": 4,
  "nbformat_minor": 0,
  "metadata": {
    "colab": {
      "name": "Introduction.ipynb",
      "provenance": [],
      "collapsed_sections": []
    },
    "kernelspec": {
      "name": "python3",
      "display_name": "Python 3"
    }
  },
  "cells": [
    {
      "cell_type": "markdown",
      "metadata": {
        "id": "u-izwd-jdFbe"
      },
      "source": [
        "# **Introduction/Business Problem**"
      ]
    },
    {
      "cell_type": "markdown",
      "metadata": {
        "id": "jorxn_FddaQY"
      },
      "source": [
        "### The Problem"
      ]
    },
    {
      "cell_type": "markdown",
      "metadata": {
        "id": "p-d9wPErdBOq"
      },
      "source": [
        "If one wants to open a business in Toronto or New York, which city will have less competition. This project will use the Foursquare data location to analyse and compare the the two cities Toronto and New York with a view of giving an advice to a potential investor about the area that will be much more favourable for the business the investor intends to establish."
      ]
    },
    {
      "cell_type": "markdown",
      "metadata": {
        "id": "elGcqvvqdqsx"
      },
      "source": [
        "## Targeted audience"
      ]
    },
    {
      "cell_type": "markdown",
      "metadata": {
        "id": "qa63GCKxd4aC"
      },
      "source": [
        "This data analysis is relevant for potential investors of both Toronto and New York. Any one who intends to invest in these two cities can use this project to gain information about which City is less competitive for the business the investor intends to establish.\r\n",
        "Current business can use this project to gain information about their competitors. How many businesses are offering the same  service as theirs and whether they can invest in another city other than the one they are currently operating from. Customers can use this project to gain information about whether their favourite restaurants are available in the area they are visiting"
      ]
    }
  ]
}