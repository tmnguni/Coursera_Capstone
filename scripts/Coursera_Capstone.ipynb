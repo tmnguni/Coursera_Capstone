{
  "nbformat": 4,
  "nbformat_minor": 0,
  "metadata": {
    "colab": {
      "name": "Coursera_Capstone.ipynb",
      "provenance": [],
      "collapsed_sections": []
    },
    "kernelspec": {
      "name": "python3",
      "display_name": "Python 3"
    }
  },
  "cells": [
    {
      "cell_type": "markdown",
      "metadata": {
        "id": "YdGaPUXrQNei"
      },
      "source": [
        "This is a notebook opened for the Coursera_Capstone project"
      ]
    },
    {
      "cell_type": "code",
      "metadata": {
        "id": "ilCf5vxjQbYH"
      },
      "source": [
        "import pandas as pd\n",
        "import numpy as np"
      ],
      "execution_count": null,
      "outputs": []
    },
    {
      "cell_type": "markdown",
      "metadata": {
        "id": "W7iXJP8GQsSA"
      },
      "source": [
        "Hello Capstone Project Course!"
      ]
    }
  ]
}